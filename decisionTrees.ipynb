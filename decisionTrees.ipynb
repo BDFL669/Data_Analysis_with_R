{
  "nbformat": 4,
  "nbformat_minor": 0,
  "metadata": {
    "colab": {
      "provenance": [],
      "authorship_tag": "ABX9TyN/yeghU6rCTC8rIlng3P0x",
      "include_colab_link": true
    },
    "kernelspec": {
      "name": "ir",
      "display_name": "R"
    },
    "language_info": {
      "name": "R"
    }
  },
  "cells": [
    {
      "cell_type": "markdown",
      "metadata": {
        "id": "view-in-github",
        "colab_type": "text"
      },
      "source": [
        "<a href=\"https://colab.research.google.com/github/BDFL669/Data_Analysis_with_R/blob/main/decisionTrees.ipynb\" target=\"_parent\"><img src=\"https://colab.research.google.com/assets/colab-badge.svg\" alt=\"Open In Colab\"/></a>"
      ]
    },
    {
      "cell_type": "markdown",
      "source": [
        "#Decision Trees and Random Forest in R Programming"
      ],
      "metadata": {
        "id": "JJkuIc-MJ2lj"
      }
    },
    {
      "cell_type": "markdown",
      "source": [
        "In this section, the process of constructing predictive models in R using the party, rpart, and randomForest packages is demonstrated. The chapter commences by constructing decision trees using the party package and employing the generated tree for classification purposes. Subsequently, an alternative approach to constructing decision trees using the rpart package is introduced. Finally, an example is provided to showcase the training of a random forest model using the randomForest package.\n",
        "\n",
        "##Decision Trees using Package party\n",
        "\n",
        "This section illustrates the process of constructing a decision tree for the iris data using the ctree() function from the party package. More specifically, the features Sepal.Length, Sepal.Width, Petal.Length, and Petal.Width are utilized to predict the species of flowers. The ctree() function within the package builds the decision tree, while predict() enables predictions for new data. Prior to modeling, the iris data is divided into two subsets: training (70%) and test (30%). To ensure reproducibility of the results, a fixed value is set for the random seed."
      ],
      "metadata": {
        "id": "N5CCQOtIKHG6"
      }
    },
    {
      "cell_type": "code",
      "source": [
        "install.packages('party')"
      ],
      "metadata": {
        "colab": {
          "base_uri": "https://localhost:8080/"
        },
        "id": "d92NjdMyFNbu",
        "outputId": "9be6da4f-06fb-4cc7-9a46-d838051d2335"
      },
      "execution_count": 2,
      "outputs": [
        {
          "output_type": "stream",
          "name": "stderr",
          "text": [
            "Installing package into ‘/usr/local/lib/R/site-library’\n",
            "(as ‘lib’ is unspecified)\n",
            "\n",
            "also installing the dependencies ‘TH.data’, ‘libcoin’, ‘matrixStats’, ‘multcomp’, ‘mvtnorm’, ‘modeltools’, ‘strucchange’, ‘coin’, ‘zoo’, ‘sandwich’\n",
            "\n",
            "\n"
          ]
        }
      ]
    },
    {
      "cell_type": "code",
      "source": [
        "str(iris)"
      ],
      "metadata": {
        "colab": {
          "base_uri": "https://localhost:8080/"
        },
        "outputId": "8783b908-2b15-4698-a33b-91b4111fb7e1",
        "id": "za-hSZudHD3o"
      },
      "execution_count": 3,
      "outputs": [
        {
          "output_type": "stream",
          "name": "stdout",
          "text": [
            "'data.frame':\t150 obs. of  5 variables:\n",
            " $ Sepal.Length: num  5.1 4.9 4.7 4.6 5 5.4 4.6 5 4.4 4.9 ...\n",
            " $ Sepal.Width : num  3.5 3 3.2 3.1 3.6 3.9 3.4 3.4 2.9 3.1 ...\n",
            " $ Petal.Length: num  1.4 1.4 1.3 1.5 1.4 1.7 1.4 1.5 1.4 1.5 ...\n",
            " $ Petal.Width : num  0.2 0.2 0.2 0.2 0.2 0.4 0.3 0.2 0.2 0.1 ...\n",
            " $ Species     : Factor w/ 3 levels \"setosa\",\"versicolor\",..: 1 1 1 1 1 1 1 1 1 1 ...\n"
          ]
        }
      ]
    },
    {
      "cell_type": "code",
      "source": [
        "set.seed(1234)\n",
        "ind <- sample(2, nrow(iris), replace=TRUE, prob=c(0.7, 0.3))\n",
        "trainData <- iris[ind==1,]\n",
        "testData <- iris[ind==2,]\n"
      ],
      "metadata": {
        "id": "GfeZl8IsJs1R"
      },
      "execution_count": 4,
      "outputs": []
    },
    {
      "cell_type": "markdown",
      "source": [
        "The code below shows how to load the party package and build the decision tree model before outputting the prediction result. myFormula outlines our target variable (Species) while initializing the other variables as independent parameters."
      ],
      "metadata": {
        "id": "GJeknnuESHJp"
      }
    },
    {
      "cell_type": "code",
      "source": [
        "library(party)\n",
        "myFormula <- Species ~ Sepal.Length + Sepal.Width + Petal.Length + Petal.Width\n",
        "iris_ctree <- ctree(myFormula, data=trainData)\n",
        "# check the prediction\n",
        "table(predict(iris_ctree), trainData$Species)"
      ],
      "metadata": {
        "colab": {
          "base_uri": "https://localhost:8080/",
          "height": 503
        },
        "id": "onHjnAYPSUDU",
        "outputId": "d739b789-2d35-4f22-d289-b18e4b927231"
      },
      "execution_count": 5,
      "outputs": [
        {
          "output_type": "stream",
          "name": "stderr",
          "text": [
            "Loading required package: grid\n",
            "\n",
            "Loading required package: mvtnorm\n",
            "\n",
            "Loading required package: modeltools\n",
            "\n",
            "Loading required package: stats4\n",
            "\n",
            "Loading required package: strucchange\n",
            "\n",
            "Loading required package: zoo\n",
            "\n",
            "\n",
            "Attaching package: ‘zoo’\n",
            "\n",
            "\n",
            "The following objects are masked from ‘package:base’:\n",
            "\n",
            "    as.Date, as.Date.numeric\n",
            "\n",
            "\n",
            "Loading required package: sandwich\n",
            "\n"
          ]
        },
        {
          "output_type": "display_data",
          "data": {
            "text/plain": [
              "            \n",
              "             setosa versicolor virginica\n",
              "  setosa         40          0         0\n",
              "  versicolor      0         37         3\n",
              "  virginica       0          1        31"
            ]
          },
          "metadata": {}
        }
      ]
    },
    {
      "cell_type": "markdown",
      "source": [
        "Now let us explore our built tree using the print function to output the rules and by plotting the tree.\n"
      ],
      "metadata": {
        "id": "G2vmSEHCgHCv"
      }
    },
    {
      "cell_type": "code",
      "source": [
        "print(iris_ctree)"
      ],
      "metadata": {
        "colab": {
          "base_uri": "https://localhost:8080/"
        },
        "id": "hxuYnJQNGNPh",
        "outputId": "6a9c43e1-f377-494a-bbb4-3035f80ebe55"
      },
      "execution_count": 6,
      "outputs": [
        {
          "output_type": "stream",
          "name": "stdout",
          "text": [
            "\n",
            "\t Conditional inference tree with 4 terminal nodes\n",
            "\n",
            "Response:  Species \n",
            "Inputs:  Sepal.Length, Sepal.Width, Petal.Length, Petal.Width \n",
            "Number of observations:  112 \n",
            "\n",
            "1) Petal.Length <= 1.9; criterion = 1, statistic = 104.643\n",
            "  2)*  weights = 40 \n",
            "1) Petal.Length > 1.9\n",
            "  3) Petal.Width <= 1.7; criterion = 1, statistic = 48.939\n",
            "    4) Petal.Length <= 4.4; criterion = 0.974, statistic = 7.397\n",
            "      5)*  weights = 21 \n",
            "    4) Petal.Length > 4.4\n",
            "      6)*  weights = 19 \n",
            "  3) Petal.Width > 1.7\n",
            "    7)*  weights = 32 \n"
          ]
        }
      ]
    },
    {
      "cell_type": "code",
      "execution_count": 7,
      "metadata": {
        "id": "ucGmp5vJIoQF",
        "colab": {
          "base_uri": "https://localhost:8080/",
          "height": 437
        },
        "outputId": "abba9d98-39bd-43f6-c9c1-713a55ba8238"
      },
      "outputs": [
        {
          "output_type": "display_data",
          "data": {
            "text/plain": [
              "plot without title"
            ],
            "image/png": "[encoded data removed]"
          },
          "metadata": {
            "image/png": {
              "width": 420,
              "height": 420
            }
          }
        }
      ],
      "source": [
        "plot(iris_ctree)"
      ]
    },
    {
      "cell_type": "markdown",
      "source": [
        "In the figure above, the bar plot representing each terminal point exhibits the likelihoods of an occurrence being assigned to the three distinct categories. In the figure below, these probabilities are represented as \"y\" within the nodes. To illustrate, node 2 is denoted as \"n=40, y=(1, 0, 0),\" indicating the presence of 40 training occurrences, all of which pertain to the initial category, \"setosa.\" Next, the constructed tree must undergo testing using test data."
      ],
      "metadata": {
        "id": "LXNLzlFYh5fY"
      }
    },
    {
      "cell_type": "code",
      "source": [
        "plot(iris_ctree, type=\"simple\")"
      ],
      "metadata": {
        "colab": {
          "base_uri": "https://localhost:8080/",
          "height": 437
        },
        "id": "Xe3xk1pngtEv",
        "outputId": "b81e1e8c-ec8e-4c42-fda5-c98528a49952"
      },
      "execution_count": 8,
      "outputs": [
        {
          "output_type": "display_data",
          "data": {
            "text/plain": [
              "plot without title"
            ],
            "image/png": "[encoded data removed]"
          },
          "metadata": {
            "image/png": {
              "width": 420,
              "height": 420
            }
          }
        }
      ]
    },
    {
      "cell_type": "code",
      "source": [
        "# predict on test data\n",
        "testPred <- predict(iris_ctree, newdata = testData)\n",
        "table(testPred, testData$Species)"
      ],
      "metadata": {
        "colab": {
          "base_uri": "https://localhost:8080/",
          "height": 104
        },
        "id": "lwUJAoSBhMX-",
        "outputId": "e063d4e2-f6e2-4f9b-e126-39aacc1718b0"
      },
      "execution_count": 9,
      "outputs": [
        {
          "output_type": "display_data",
          "data": {
            "text/plain": [
              "            \n",
              "testPred     setosa versicolor virginica\n",
              "  setosa         10          0         0\n",
              "  versicolor      0         12         2\n",
              "  virginica       0          0        14"
            ]
          },
          "metadata": {}
        }
      ]
    },
    {
      "cell_type": "markdown",
      "source": [
        "The current iteration of the ctree() function (specifically, version 0.9-9995) lacks robust handling of missing values. In this case, an instance with a missing value may be assigned to either the left or right sub-tree inconsistently, possibly due to surrogate rules.\n",
        "\n",
        "Another concern arises when a variable is present in the training data and provided to ctree(), but does not appear in the constructed decision tree. In such instances, the test data must also contain that variable in order for predictions to be made successfully using the predict() function. Additionally, if the categorical variable levels in the test data differ from those in the training data, prediction on the test data will fail.\n",
        "\n",
        "To address the aforementioned issues, one possible solution is to construct a new decision tree using ctree() after the initial tree is built. This new tree should only include variables that exist in the first tree. Furthermore, it is essential to explicitly set the categorical variable levels in the test data to match the corresponding variable levels in the training data."
      ],
      "metadata": {
        "id": "j6z4KnVgir9h"
      }
    },
    {
      "cell_type": "markdown",
      "source": [
        "## Decision Trees with Package rpart"
      ],
      "metadata": {
        "id": "LqiIkF0LkKTF"
      }
    },
    {
      "cell_type": "markdown",
      "source": [
        "To mix things up a little, we will use the bodyfat dataset alongside rpart package to create a decision tree model. rpart() helps us build the model so that we can select the decision tree with the least predcition error. Thereafter, we apply the model to data it has never seen before and generate prections using the usual suspect: predict(). But first things first, let us load the bodyfat dataset."
      ],
      "metadata": {
        "id": "zwaogCSNoHhs"
      }
    },
    {
      "cell_type": "code",
      "source": [
        "#the TH.data package has to be installed to gain access to the BodyFat dataset\n",
        "install.packages(\"TH.data\", repos = \"http://cran.r-project.org\")"
      ],
      "metadata": {
        "colab": {
          "base_uri": "https://localhost:8080/"
        },
        "id": "p3S8VC8ronau",
        "outputId": "6a7485aa-8569-4b39-b292-555ea7931f94"
      },
      "execution_count": 11,
      "outputs": [
        {
          "output_type": "stream",
          "name": "stderr",
          "text": [
            "Installing package into ‘/usr/local/lib/R/site-library’\n",
            "(as ‘lib’ is unspecified)\n",
            "\n"
          ]
        }
      ]
    },
    {
      "cell_type": "code",
      "source": [
        "data(\"bodyfat\", package = \"TH.data\")\n",
        "dim(bodyfat)"
      ],
      "metadata": {
        "colab": {
          "base_uri": "https://localhost:8080/",
          "height": 34
        },
        "id": "0-Rj02qOkL6m",
        "outputId": "8e373703-e264-494d-8f1a-b37b8459fc54"
      },
      "execution_count": 14,
      "outputs": [
        {
          "output_type": "display_data",
          "data": {
            "text/html": [
              "<style>\n",
              ".list-inline {list-style: none; margin:0; padding: 0}\n",
              ".list-inline>li {display: inline-block}\n",
              ".list-inline>li:not(:last-child)::after {content: \"\\00b7\"; padding: 0 .5ex}\n",
              "</style>\n",
              "<ol class=list-inline><li>71</li><li>10</li></ol>\n"
            ],
            "text/markdown": "1. 71\n2. 10\n\n\n",
            "text/latex": "\\begin{enumerate*}\n\\item 71\n\\item 10\n\\end{enumerate*}\n",
            "text/plain": [
              "[1] 71 10"
            ]
          },
          "metadata": {}
        }
      ]
    },
    {
      "cell_type": "code",
      "source": [
        "attributes(bodyfat)"
      ],
      "metadata": {
        "colab": {
          "base_uri": "https://localhost:8080/",
          "height": 167
        },
        "id": "PssFCPXzo8Kj",
        "outputId": "513b6a27-089c-4838-df16-1655120f44c4"
      },
      "execution_count": 15,
      "outputs": [
        {
          "output_type": "display_data",
          "data": {
            "text/html": [
              "<dl>\n",
              "\t<dt>$names</dt>\n",
              "\t\t<dd><style>\n",
              ".list-inline {list-style: none; margin:0; padding: 0}\n",
              ".list-inline>li {display: inline-block}\n",
              ".list-inline>li:not(:last-child)::after {content: \"\\00b7\"; padding: 0 .5ex}\n",
              "</style>\n",
              "<ol class=list-inline><li>'age'</li><li>'DEXfat'</li><li>'waistcirc'</li><li>'hipcirc'</li><li>'elbowbreadth'</li><li>'kneebreadth'</li><li>'anthro3a'</li><li>'anthro3b'</li><li>'anthro3c'</li><li>'anthro4'</li></ol>\n",
              "</dd>\n",
              "\t<dt>$row.names</dt>\n",
              "\t\t<dd><style>\n",
              ".list-inline {list-style: none; margin:0; padding: 0}\n",
              ".list-inline>li {display: inline-block}\n",
              ".list-inline>li:not(:last-child)::after {content: \"\\00b7\"; padding: 0 .5ex}\n",
              "</style>\n",
              "<ol class=list-inline><li>'47'</li><li>'48'</li><li>'49'</li><li>'50'</li><li>'51'</li><li>'52'</li><li>'53'</li><li>'54'</li><li>'55'</li><li>'56'</li><li>'57'</li><li>'58'</li><li>'59'</li><li>'60'</li><li>'61'</li><li>'62'</li><li>'63'</li><li>'64'</li><li>'65'</li><li>'66'</li><li>'67'</li><li>'68'</li><li>'69'</li><li>'70'</li><li>'71'</li><li>'72'</li><li>'73'</li><li>'74'</li><li>'75'</li><li>'76'</li><li>'77'</li><li>'78'</li><li>'79'</li><li>'80'</li><li>'81'</li><li>'82'</li><li>'83'</li><li>'84'</li><li>'85'</li><li>'86'</li><li>'87'</li><li>'88'</li><li>'89'</li><li>'90'</li><li>'91'</li><li>'92'</li><li>'93'</li><li>'94'</li><li>'95'</li><li>'96'</li><li>'97'</li><li>'98'</li><li>'99'</li><li>'100'</li><li>'101'</li><li>'102'</li><li>'103'</li><li>'104'</li><li>'105'</li><li>'106'</li><li>'107'</li><li>'108'</li><li>'109'</li><li>'110'</li><li>'111'</li><li>'112'</li><li>'113'</li><li>'114'</li><li>'115'</li><li>'116'</li><li>'117'</li></ol>\n",
              "</dd>\n",
              "\t<dt>$class</dt>\n",
              "\t\t<dd>'data.frame'</dd>\n",
              "</dl>\n"
            ],
            "text/markdown": "$names\n:   1. 'age'\n2. 'DEXfat'\n3. 'waistcirc'\n4. 'hipcirc'\n5. 'elbowbreadth'\n6. 'kneebreadth'\n7. 'anthro3a'\n8. 'anthro3b'\n9. 'anthro3c'\n10. 'anthro4'\n\n\n\n$row.names\n:   1. '47'\n2. '48'\n3. '49'\n4. '50'\n5. '51'\n6. '52'\n7. '53'\n8. '54'\n9. '55'\n10. '56'\n11. '57'\n12. '58'\n13. '59'\n14. '60'\n15. '61'\n16. '62'\n17. '63'\n18. '64'\n19. '65'\n20. '66'\n21. '67'\n22. '68'\n23. '69'\n24. '70'\n25. '71'\n26. '72'\n27. '73'\n28. '74'\n29. '75'\n30. '76'\n31. '77'\n32. '78'\n33. '79'\n34. '80'\n35. '81'\n36. '82'\n37. '83'\n38. '84'\n39. '85'\n40. '86'\n41. '87'\n42. '88'\n43. '89'\n44. '90'\n45. '91'\n46. '92'\n47. '93'\n48. '94'\n49. '95'\n50. '96'\n51. '97'\n52. '98'\n53. '99'\n54. '100'\n55. '101'\n56. '102'\n57. '103'\n58. '104'\n59. '105'\n60. '106'\n61. '107'\n62. '108'\n63. '109'\n64. '110'\n65. '111'\n66. '112'\n67. '113'\n68. '114'\n69. '115'\n70. '116'\n71. '117'\n\n\n\n$class\n:   'data.frame'\n\n\n",
            "text/latex": "\\begin{description}\n\\item[\\$names] \\begin{enumerate*}\n\\item 'age'\n\\item 'DEXfat'\n\\item 'waistcirc'\n\\item 'hipcirc'\n\\item 'elbowbreadth'\n\\item 'kneebreadth'\n\\item 'anthro3a'\n\\item 'anthro3b'\n\\item 'anthro3c'\n\\item 'anthro4'\n\\end{enumerate*}\n\n\\item[\\$row.names] \\begin{enumerate*}\n\\item '47'\n\\item '48'\n\\item '49'\n\\item '50'\n\\item '51'\n\\item '52'\n\\item '53'\n\\item '54'\n\\item '55'\n\\item '56'\n\\item '57'\n\\item '58'\n\\item '59'\n\\item '60'\n\\item '61'\n\\item '62'\n\\item '63'\n\\item '64'\n\\item '65'\n\\item '66'\n\\item '67'\n\\item '68'\n\\item '69'\n\\item '70'\n\\item '71'\n\\item '72'\n\\item '73'\n\\item '74'\n\\item '75'\n\\item '76'\n\\item '77'\n\\item '78'\n\\item '79'\n\\item '80'\n\\item '81'\n\\item '82'\n\\item '83'\n\\item '84'\n\\item '85'\n\\item '86'\n\\item '87'\n\\item '88'\n\\item '89'\n\\item '90'\n\\item '91'\n\\item '92'\n\\item '93'\n\\item '94'\n\\item '95'\n\\item '96'\n\\item '97'\n\\item '98'\n\\item '99'\n\\item '100'\n\\item '101'\n\\item '102'\n\\item '103'\n\\item '104'\n\\item '105'\n\\item '106'\n\\item '107'\n\\item '108'\n\\item '109'\n\\item '110'\n\\item '111'\n\\item '112'\n\\item '113'\n\\item '114'\n\\item '115'\n\\item '116'\n\\item '117'\n\\end{enumerate*}\n\n\\item[\\$class] 'data.frame'\n\\end{description}\n",
            "text/plain": [
              "$names\n",
              " [1] \"age\"          \"DEXfat\"       \"waistcirc\"    \"hipcirc\"      \"elbowbreadth\"\n",
              " [6] \"kneebreadth\"  \"anthro3a\"     \"anthro3b\"     \"anthro3c\"     \"anthro4\"     \n",
              "\n",
              "$row.names\n",
              " [1] \"47\"  \"48\"  \"49\"  \"50\"  \"51\"  \"52\"  \"53\"  \"54\"  \"55\"  \"56\"  \"57\"  \"58\" \n",
              "[13] \"59\"  \"60\"  \"61\"  \"62\"  \"63\"  \"64\"  \"65\"  \"66\"  \"67\"  \"68\"  \"69\"  \"70\" \n",
              "[25] \"71\"  \"72\"  \"73\"  \"74\"  \"75\"  \"76\"  \"77\"  \"78\"  \"79\"  \"80\"  \"81\"  \"82\" \n",
              "[37] \"83\"  \"84\"  \"85\"  \"86\"  \"87\"  \"88\"  \"89\"  \"90\"  \"91\"  \"92\"  \"93\"  \"94\" \n",
              "[49] \"95\"  \"96\"  \"97\"  \"98\"  \"99\"  \"100\" \"101\" \"102\" \"103\" \"104\" \"105\" \"106\"\n",
              "[61] \"107\" \"108\" \"109\" \"110\" \"111\" \"112\" \"113\" \"114\" \"115\" \"116\" \"117\"\n",
              "\n",
              "$class\n",
              "[1] \"data.frame\"\n"
            ]
          },
          "metadata": {}
        }
      ]
    },
    {
      "cell_type": "code",
      "source": [
        "bodyfat[1:5,]"
      ],
      "metadata": {
        "colab": {
          "base_uri": "https://localhost:8080/",
          "height": 255
        },
        "id": "pEQ1oJkLpFg1",
        "outputId": "577dba60-3373-42d0-c4c5-31dda1bceb97"
      },
      "execution_count": 16,
      "outputs": [
        {
          "output_type": "display_data",
          "data": {
            "text/html": [
              "<table class=\"dataframe\">\n",
              "<caption>A data.frame: 5 × 10</caption>\n",
              "<thead>\n",
              "\t<tr><th></th><th scope=col>age</th><th scope=col>DEXfat</th><th scope=col>waistcirc</th><th scope=col>hipcirc</th><th scope=col>elbowbreadth</th><th scope=col>kneebreadth</th><th scope=col>anthro3a</th><th scope=col>anthro3b</th><th scope=col>anthro3c</th><th scope=col>anthro4</th></tr>\n",
              "\t<tr><th></th><th scope=col>&lt;dbl&gt;</th><th scope=col>&lt;dbl&gt;</th><th scope=col>&lt;dbl&gt;</th><th scope=col>&lt;dbl&gt;</th><th scope=col>&lt;dbl&gt;</th><th scope=col>&lt;dbl&gt;</th><th scope=col>&lt;dbl&gt;</th><th scope=col>&lt;dbl&gt;</th><th scope=col>&lt;dbl&gt;</th><th scope=col>&lt;dbl&gt;</th></tr>\n",
              "</thead>\n",
              "<tbody>\n",
              "\t<tr><th scope=row>47</th><td>57</td><td>41.68</td><td>100.0</td><td>112.0</td><td>7.1</td><td> 9.4</td><td>4.42</td><td>4.95</td><td>4.50</td><td>6.13</td></tr>\n",
              "\t<tr><th scope=row>48</th><td>65</td><td>43.29</td><td> 99.5</td><td>116.5</td><td>6.5</td><td> 8.9</td><td>4.63</td><td>5.01</td><td>4.48</td><td>6.37</td></tr>\n",
              "\t<tr><th scope=row>49</th><td>59</td><td>35.41</td><td> 96.0</td><td>108.5</td><td>6.2</td><td> 8.9</td><td>4.12</td><td>4.74</td><td>4.60</td><td>5.82</td></tr>\n",
              "\t<tr><th scope=row>50</th><td>58</td><td>22.79</td><td> 72.0</td><td> 96.5</td><td>6.1</td><td> 9.2</td><td>4.03</td><td>4.48</td><td>3.91</td><td>5.66</td></tr>\n",
              "\t<tr><th scope=row>51</th><td>60</td><td>36.42</td><td> 89.5</td><td>100.5</td><td>7.1</td><td>10.0</td><td>4.24</td><td>4.68</td><td>4.15</td><td>5.91</td></tr>\n",
              "</tbody>\n",
              "</table>\n"
            ],
            "text/markdown": "\nA data.frame: 5 × 10\n\n| <!--/--> | age &lt;dbl&gt; | DEXfat &lt;dbl&gt; | waistcirc &lt;dbl&gt; | hipcirc &lt;dbl&gt; | elbowbreadth &lt;dbl&gt; | kneebreadth &lt;dbl&gt; | anthro3a &lt;dbl&gt; | anthro3b &lt;dbl&gt; | anthro3c &lt;dbl&gt; | anthro4 &lt;dbl&gt; |\n|---|---|---|---|---|---|---|---|---|---|---|\n| 47 | 57 | 41.68 | 100.0 | 112.0 | 7.1 |  9.4 | 4.42 | 4.95 | 4.50 | 6.13 |\n| 48 | 65 | 43.29 |  99.5 | 116.5 | 6.5 |  8.9 | 4.63 | 5.01 | 4.48 | 6.37 |\n| 49 | 59 | 35.41 |  96.0 | 108.5 | 6.2 |  8.9 | 4.12 | 4.74 | 4.60 | 5.82 |\n| 50 | 58 | 22.79 |  72.0 |  96.5 | 6.1 |  9.2 | 4.03 | 4.48 | 3.91 | 5.66 |\n| 51 | 60 | 36.42 |  89.5 | 100.5 | 7.1 | 10.0 | 4.24 | 4.68 | 4.15 | 5.91 |\n\n",
            "text/latex": "A data.frame: 5 × 10\n\\begin{tabular}{r|llllllllll}\n  & age & DEXfat & waistcirc & hipcirc & elbowbreadth & kneebreadth & anthro3a & anthro3b & anthro3c & anthro4\\\\\n  & <dbl> & <dbl> & <dbl> & <dbl> & <dbl> & <dbl> & <dbl> & <dbl> & <dbl> & <dbl>\\\\\n\\hline\n\t47 & 57 & 41.68 & 100.0 & 112.0 & 7.1 &  9.4 & 4.42 & 4.95 & 4.50 & 6.13\\\\\n\t48 & 65 & 43.29 &  99.5 & 116.5 & 6.5 &  8.9 & 4.63 & 5.01 & 4.48 & 6.37\\\\\n\t49 & 59 & 35.41 &  96.0 & 108.5 & 6.2 &  8.9 & 4.12 & 4.74 & 4.60 & 5.82\\\\\n\t50 & 58 & 22.79 &  72.0 &  96.5 & 6.1 &  9.2 & 4.03 & 4.48 & 3.91 & 5.66\\\\\n\t51 & 60 & 36.42 &  89.5 & 100.5 & 7.1 & 10.0 & 4.24 & 4.68 & 4.15 & 5.91\\\\\n\\end{tabular}\n",
            "text/plain": [
              "   age DEXfat waistcirc hipcirc elbowbreadth kneebreadth anthro3a anthro3b\n",
              "47 57  41.68  100.0     112.0   7.1           9.4        4.42     4.95    \n",
              "48 65  43.29   99.5     116.5   6.5           8.9        4.63     5.01    \n",
              "49 59  35.41   96.0     108.5   6.2           8.9        4.12     4.74    \n",
              "50 58  22.79   72.0      96.5   6.1           9.2        4.03     4.48    \n",
              "51 60  36.42   89.5     100.5   7.1          10.0        4.24     4.68    \n",
              "   anthro3c anthro4\n",
              "47 4.50     6.13   \n",
              "48 4.48     6.37   \n",
              "49 4.60     5.82   \n",
              "50 3.91     5.66   \n",
              "51 4.15     5.91   "
            ]
          },
          "metadata": {}
        }
      ]
    },
    {
      "cell_type": "markdown",
      "source": [
        "The following code splits the datasets into the test and train subsets before a decision tree model is built using the latter subset."
      ],
      "metadata": {
        "id": "1Bs_5PqRpLYB"
      }
    },
    {
      "cell_type": "code",
      "source": [
        "set.seed(1234)\n",
        "ind <- sample(2, nrow(bodyfat), replace=TRUE, prob=c(0.7, 0.3))\n",
        "bodyfat.train <- bodyfat[ind==1,]\n",
        "bodyfat.test <- bodyfat[ind==2,]\n",
        "# train a decision tree\n",
        "library(rpart)\n",
        "myFormula <- DEXfat ~ age + waistcirc + hipcirc + elbowbreadth + kneebreadth\n",
        "bodyfat_rpart <- rpart(myFormula, data = bodyfat.train, control = rpart.control(minsplit = 10))\n",
        "attributes(bodyfat_rpart)"
      ],
      "metadata": {
        "colab": {
          "base_uri": "https://localhost:8080/",
          "height": 146
        },
        "id": "t5Ng7InYqPUR",
        "outputId": "27a66384-1d84-43ff-ad6b-4414c3a0e5b3"
      },
      "execution_count": 18,
      "outputs": [
        {
          "output_type": "display_data",
          "data": {
            "text/html": [
              "<dl>\n",
              "\t<dt>$names</dt>\n",
              "\t\t<dd><style>\n",
              ".list-inline {list-style: none; margin:0; padding: 0}\n",
              ".list-inline>li {display: inline-block}\n",
              ".list-inline>li:not(:last-child)::after {content: \"\\00b7\"; padding: 0 .5ex}\n",
              "</style>\n",
              "<ol class=list-inline><li>'frame'</li><li>'where'</li><li>'call'</li><li>'terms'</li><li>'cptable'</li><li>'method'</li><li>'parms'</li><li>'control'</li><li>'functions'</li><li>'numresp'</li><li>'splits'</li><li>'variable.importance'</li><li>'y'</li><li>'ordered'</li></ol>\n",
              "</dd>\n",
              "\t<dt>$xlevels</dt>\n",
              "\t\t<dd><dl>\n",
              "</dl>\n",
              "</dd>\n",
              "\t<dt>$class</dt>\n",
              "\t\t<dd>'rpart'</dd>\n",
              "</dl>\n"
            ],
            "text/markdown": "$names\n:   1. 'frame'\n2. 'where'\n3. 'call'\n4. 'terms'\n5. 'cptable'\n6. 'method'\n7. 'parms'\n8. 'control'\n9. 'functions'\n10. 'numresp'\n11. 'splits'\n12. 'variable.importance'\n13. 'y'\n14. 'ordered'\n\n\n\n$xlevels\n:   \n\n\n$class\n:   'rpart'\n\n\n",
            "text/latex": "\\begin{description}\n\\item[\\$names] \\begin{enumerate*}\n\\item 'frame'\n\\item 'where'\n\\item 'call'\n\\item 'terms'\n\\item 'cptable'\n\\item 'method'\n\\item 'parms'\n\\item 'control'\n\\item 'functions'\n\\item 'numresp'\n\\item 'splits'\n\\item 'variable.importance'\n\\item 'y'\n\\item 'ordered'\n\\end{enumerate*}\n\n\\item[\\$xlevels] \\begin{description}\n\\end{description}\n\n\\item[\\$class] 'rpart'\n\\end{description}\n",
            "text/plain": [
              "$names\n",
              " [1] \"frame\"               \"where\"               \"call\"               \n",
              " [4] \"terms\"               \"cptable\"             \"method\"             \n",
              " [7] \"parms\"               \"control\"             \"functions\"          \n",
              "[10] \"numresp\"             \"splits\"              \"variable.importance\"\n",
              "[13] \"y\"                   \"ordered\"            \n",
              "\n",
              "$xlevels\n",
              "named list()\n",
              "\n",
              "$class\n",
              "[1] \"rpart\"\n"
            ]
          },
          "metadata": {}
        }
      ]
    },
    {
      "cell_type": "code",
      "source": [
        "print(bodyfat_rpart$cptable)"
      ],
      "metadata": {
        "colab": {
          "base_uri": "https://localhost:8080/"
        },
        "id": "IvUpFk-VqcS4",
        "outputId": "11ef4b3f-01bc-4574-c470-6d66eb252344"
      },
      "execution_count": 19,
      "outputs": [
        {
          "output_type": "stream",
          "name": "stdout",
          "text": [
            "          CP nsplit  rel error    xerror       xstd\n",
            "1 0.67272638      0 1.00000000 1.0427457 0.19016187\n",
            "2 0.09390665      1 0.32727362 0.5081173 0.11702581\n",
            "3 0.06037503      2 0.23336696 0.4522296 0.09801847\n",
            "4 0.03420446      3 0.17299193 0.3967005 0.09676249\n",
            "5 0.01708278      4 0.13878747 0.3015476 0.07385485\n",
            "6 0.01695763      5 0.12170469 0.2929969 0.06850104\n",
            "7 0.01007079      6 0.10474706 0.2713231 0.06690466\n",
            "8 0.01000000      7 0.09467627 0.2713231 0.06690466\n"
          ]
        }
      ]
    },
    {
      "cell_type": "code",
      "source": [
        " print(bodyfat_rpart)"
      ],
      "metadata": {
        "colab": {
          "base_uri": "https://localhost:8080/"
        },
        "id": "msLfHyRhqh5l",
        "outputId": "a6de83bf-c178-4f30-d0fb-8134c99e37b6"
      },
      "execution_count": 20,
      "outputs": [
        {
          "output_type": "stream",
          "name": "stdout",
          "text": [
            "n= 56 \n",
            "\n",
            "node), split, n, deviance, yval\n",
            "      * denotes terminal node\n",
            "\n",
            " 1) root 56 7265.0290000 30.94589  \n",
            "   2) waistcirc< 88.4 31  960.5381000 22.55645  \n",
            "     4) hipcirc< 96.25 14  222.2648000 18.41143  \n",
            "       8) age< 60.5 9   66.8809600 16.19222 *\n",
            "       9) age>=60.5 5   31.2769200 22.40600 *\n",
            "     5) hipcirc>=96.25 17  299.6470000 25.97000  \n",
            "      10) waistcirc< 77.75 6   30.7345500 22.32500 *\n",
            "      11) waistcirc>=77.75 11  145.7148000 27.95818  \n",
            "        22) hipcirc< 99.5 3    0.2568667 23.74667 *\n",
            "        23) hipcirc>=99.5 8   72.2933500 29.53750 *\n",
            "   3) waistcirc>=88.4 25 1417.1140000 41.34880  \n",
            "     6) waistcirc< 104.75 18  330.5792000 38.09111  \n",
            "      12) hipcirc< 109.9 9   68.9996200 34.37556 *\n",
            "      13) hipcirc>=109.9 9   13.0832000 41.80667 *\n",
            "     7) waistcirc>=104.75 7  404.3004000 49.72571 *\n"
          ]
        }
      ]
    },
    {
      "cell_type": "markdown",
      "source": [
        "Let us visualize the built tree"
      ],
      "metadata": {
        "id": "tXjogJNAqpdR"
      }
    },
    {
      "cell_type": "code",
      "source": [
        "plot(bodyfat_rpart)\n",
        "text(bodyfat_rpart, use.n=T)"
      ],
      "metadata": {
        "colab": {
          "base_uri": "https://localhost:8080/",
          "height": 437
        },
        "id": "tTiM0EEBqnA1",
        "outputId": "7e188f97-24ea-4bf2-bbe6-fb2d9072e8a5"
      },
      "execution_count": 21,
      "outputs": [
        {
          "output_type": "display_data",
          "data": {
            "text/plain": [
              "plot without title"
            ],
            "image/png": "[encoded data removed]"
          },
          "metadata": {
            "image/png": {
              "width": 420,
              "height": 420
            }
          }
        }
      ]
    },
    {
      "cell_type": "markdown",
      "source": [
        "Now let us identify the one with the least error rate"
      ],
      "metadata": {
        "id": "Be7uebISqzfQ"
      }
    },
    {
      "cell_type": "code",
      "source": [
        "opt <- which.min(bodyfat_rpart$cptable[,\"xerror\"])\n",
        "cp <- bodyfat_rpart$cptable[opt, \"CP\"]\n",
        "bodyfat_prune <- prune(bodyfat_rpart, cp = cp)\n",
        "print(bodyfat_prune)"
      ],
      "metadata": {
        "colab": {
          "base_uri": "https://localhost:8080/"
        },
        "id": "LW7kDeWEq6q2",
        "outputId": "368f87e2-961d-4458-afbd-d2c0bdc815b8"
      },
      "execution_count": 22,
      "outputs": [
        {
          "output_type": "stream",
          "name": "stdout",
          "text": [
            "n= 56 \n",
            "\n",
            "node), split, n, deviance, yval\n",
            "      * denotes terminal node\n",
            "\n",
            " 1) root 56 7265.02900 30.94589  \n",
            "   2) waistcirc< 88.4 31  960.53810 22.55645  \n",
            "     4) hipcirc< 96.25 14  222.26480 18.41143  \n",
            "       8) age< 60.5 9   66.88096 16.19222 *\n",
            "       9) age>=60.5 5   31.27692 22.40600 *\n",
            "     5) hipcirc>=96.25 17  299.64700 25.97000  \n",
            "      10) waistcirc< 77.75 6   30.73455 22.32500 *\n",
            "      11) waistcirc>=77.75 11  145.71480 27.95818 *\n",
            "   3) waistcirc>=88.4 25 1417.11400 41.34880  \n",
            "     6) waistcirc< 104.75 18  330.57920 38.09111  \n",
            "      12) hipcirc< 109.9 9   68.99962 34.37556 *\n",
            "      13) hipcirc>=109.9 9   13.08320 41.80667 *\n",
            "     7) waistcirc>=104.75 7  404.30040 49.72571 *\n"
          ]
        }
      ]
    },
    {
      "cell_type": "code",
      "source": [
        "plot(bodyfat_prune)\n",
        "text(bodyfat_prune, use.n=T)"
      ],
      "metadata": {
        "colab": {
          "base_uri": "https://localhost:8080/",
          "height": 437
        },
        "id": "P5XPCtHOrRy4",
        "outputId": "39ee2539-f4b4-4939-eda3-f791c9806e36"
      },
      "execution_count": 23,
      "outputs": [
        {
          "output_type": "display_data",
          "data": {
            "text/plain": [
              "plot without title"
            ],
            "image/png": "[encoded data removed]"
          },
          "metadata": {
            "image/png": {
              "width": 420,
              "height": 420
            }
          }
        }
      ]
    },
    {
      "cell_type": "markdown",
      "source": [
        "We can now use the best tree predict values and compare them to the real values in the bodyfat dataset. The following code uses abline() to draw a diagonal line. If the model is good enough then most of the points should be on or next to this line that represents the actual values."
      ],
      "metadata": {
        "id": "O9cvDarsrZm9"
      }
    },
    {
      "cell_type": "code",
      "source": [
        "DEXfat_pred <- predict(bodyfat_prune, newdata=bodyfat.test)\n",
        "xlim <- range(bodyfat$DEXfat)\n",
        "plot(DEXfat_pred ~ DEXfat, data=bodyfat.test, xlab=\"Observed\", ylab=\"Predicted\", ylim=xlim, xlim=xlim)\n",
        "abline(a=0, b=1)\n"
      ],
      "metadata": {
        "colab": {
          "base_uri": "https://localhost:8080/",
          "height": 437
        },
        "id": "A00XAOdgraLe",
        "outputId": "ba52b589-d954-4343-94ed-fe90aeb116de"
      },
      "execution_count": 24,
      "outputs": [
        {
          "output_type": "display_data",
          "data": {
            "text/plain": [
              "plot without title"
            ],
            "image/png": "[encoded data removed]"
          },
          "metadata": {
            "image/png": {
              "width": 420,
              "height": 420
            }
          }
        }
      ]
    },
    {
      "cell_type": "markdown",
      "source": [
        "##Random Forest"
      ],
      "metadata": {
        "id": "hL4kXbeSt009"
      }
    },
    {
      "cell_type": "markdown",
      "source": [
        "Finally, let us install the randomForest package for our next predicitive model that will use the iris dataset. Unfortunately, randomForest cannot handle datasets with missing values. Moreover, every categorical variable can only have a maximum number of 32 levels. If the levels exceed 32, transformation prior to feeding data is pertinent. You can also leverage package party's cforest() function as it does not limit categorical attributes to 32 levles. Nonetheless, you'll still end up using more memory and spend a lot of time training the model when you have too many levels. We begin by splitting the dataset into training and test subsets."
      ],
      "metadata": {
        "id": "fVp71vZy8lhQ"
      }
    },
    {
      "cell_type": "code",
      "source": [
        "ind <- sample(2, nrow(iris), replace=TRUE, prob=c(0.7, 0.3))\n",
        "trainData <- iris[ind==1,]\n",
        "testData <- iris[ind==2,]"
      ],
      "metadata": {
        "id": "0SPtQ7E08m2m"
      },
      "execution_count": 25,
      "outputs": []
    },
    {
      "cell_type": "markdown",
      "source": [
        "The code below loads the required package and begins the training process. The logic is pretty much the same as in the other instances.\n"
      ],
      "metadata": {
        "id": "bK-B1F5q_0QI"
      }
    },
    {
      "cell_type": "code",
      "source": [
        "install.packages('randomForest') # For generating random forest model"
      ],
      "metadata": {
        "colab": {
          "base_uri": "https://localhost:8080/"
        },
        "id": "gR5oXe20-A0x",
        "outputId": "f5119933-bdd3-4136-8055-3d015e934cfa"
      },
      "execution_count": 27,
      "outputs": [
        {
          "output_type": "stream",
          "name": "stderr",
          "text": [
            "Installing package into ‘/usr/local/lib/R/site-library’\n",
            "(as ‘lib’ is unspecified)\n",
            "\n"
          ]
        }
      ]
    },
    {
      "cell_type": "code",
      "source": [
        "library(randomForest)\n",
        "rf <- randomForest(Species ~ ., data=trainData, ntree=100, proximity=TRUE)\n",
        "table(predict(rf), trainData$Species)"
      ],
      "metadata": {
        "colab": {
          "base_uri": "https://localhost:8080/",
          "height": 173
        },
        "id": "4fWPLHth8v8b",
        "outputId": "940ba3b2-39b8-44b6-9c11-01092c84c435"
      },
      "execution_count": 28,
      "outputs": [
        {
          "output_type": "stream",
          "name": "stderr",
          "text": [
            "randomForest 4.7-1.1\n",
            "\n",
            "Type rfNews() to see new features/changes/bug fixes.\n",
            "\n"
          ]
        },
        {
          "output_type": "display_data",
          "data": {
            "text/plain": [
              "            \n",
              "             setosa versicolor virginica\n",
              "  setosa         33          0         0\n",
              "  versicolor      0         33         2\n",
              "  virginica       0          2        35"
            ]
          },
          "metadata": {}
        }
      ]
    },
    {
      "cell_type": "code",
      "source": [
        "print(rf)"
      ],
      "metadata": {
        "colab": {
          "base_uri": "https://localhost:8080/"
        },
        "id": "_vvejTFC-Hoq",
        "outputId": "fdfdeb9f-dce4-427e-fe18-fbf034283feb"
      },
      "execution_count": 29,
      "outputs": [
        {
          "output_type": "stream",
          "name": "stdout",
          "text": [
            "\n",
            "Call:\n",
            " randomForest(formula = Species ~ ., data = trainData, ntree = 100,      proximity = TRUE) \n",
            "               Type of random forest: classification\n",
            "                     Number of trees: 100\n",
            "No. of variables tried at each split: 2\n",
            "\n",
            "        OOB estimate of  error rate: 3.81%\n",
            "Confusion matrix:\n",
            "           setosa versicolor virginica class.error\n",
            "setosa         33          0         0  0.00000000\n",
            "versicolor      0         33         2  0.05714286\n",
            "virginica       0          2        35  0.05405405\n"
          ]
        }
      ]
    },
    {
      "cell_type": "code",
      "source": [
        "attributes(rf)"
      ],
      "metadata": {
        "colab": {
          "base_uri": "https://localhost:8080/",
          "height": 114
        },
        "id": "vEFpW_St-O6a",
        "outputId": "8ea77558-4219-41bd-df09-13dc82865933"
      },
      "execution_count": 31,
      "outputs": [
        {
          "output_type": "display_data",
          "data": {
            "text/html": [
              "<dl>\n",
              "\t<dt>$names</dt>\n",
              "\t\t<dd><style>\n",
              ".list-inline {list-style: none; margin:0; padding: 0}\n",
              ".list-inline>li {display: inline-block}\n",
              ".list-inline>li:not(:last-child)::after {content: \"\\00b7\"; padding: 0 .5ex}\n",
              "</style>\n",
              "<ol class=list-inline><li>'call'</li><li>'type'</li><li>'predicted'</li><li>'err.rate'</li><li>'confusion'</li><li>'votes'</li><li>'oob.times'</li><li>'classes'</li><li>'importance'</li><li>'importanceSD'</li><li>'localImportance'</li><li>'proximity'</li><li>'ntree'</li><li>'mtry'</li><li>'forest'</li><li>'y'</li><li>'test'</li><li>'inbag'</li><li>'terms'</li></ol>\n",
              "</dd>\n",
              "\t<dt>$class</dt>\n",
              "\t\t<dd><style>\n",
              ".list-inline {list-style: none; margin:0; padding: 0}\n",
              ".list-inline>li {display: inline-block}\n",
              ".list-inline>li:not(:last-child)::after {content: \"\\00b7\"; padding: 0 .5ex}\n",
              "</style>\n",
              "<ol class=list-inline><li>'randomForest.formula'</li><li>'randomForest'</li></ol>\n",
              "</dd>\n",
              "</dl>\n"
            ],
            "text/markdown": "$names\n:   1. 'call'\n2. 'type'\n3. 'predicted'\n4. 'err.rate'\n5. 'confusion'\n6. 'votes'\n7. 'oob.times'\n8. 'classes'\n9. 'importance'\n10. 'importanceSD'\n11. 'localImportance'\n12. 'proximity'\n13. 'ntree'\n14. 'mtry'\n15. 'forest'\n16. 'y'\n17. 'test'\n18. 'inbag'\n19. 'terms'\n\n\n\n$class\n:   1. 'randomForest.formula'\n2. 'randomForest'\n\n\n\n\n\n",
            "text/latex": "\\begin{description}\n\\item[\\$names] \\begin{enumerate*}\n\\item 'call'\n\\item 'type'\n\\item 'predicted'\n\\item 'err.rate'\n\\item 'confusion'\n\\item 'votes'\n\\item 'oob.times'\n\\item 'classes'\n\\item 'importance'\n\\item 'importanceSD'\n\\item 'localImportance'\n\\item 'proximity'\n\\item 'ntree'\n\\item 'mtry'\n\\item 'forest'\n\\item 'y'\n\\item 'test'\n\\item 'inbag'\n\\item 'terms'\n\\end{enumerate*}\n\n\\item[\\$class] \\begin{enumerate*}\n\\item 'randomForest.formula'\n\\item 'randomForest'\n\\end{enumerate*}\n\n\\end{description}\n",
            "text/plain": [
              "$names\n",
              " [1] \"call\"            \"type\"            \"predicted\"       \"err.rate\"       \n",
              " [5] \"confusion\"       \"votes\"           \"oob.times\"       \"classes\"        \n",
              " [9] \"importance\"      \"importanceSD\"    \"localImportance\" \"proximity\"      \n",
              "[13] \"ntree\"           \"mtry\"            \"forest\"          \"y\"              \n",
              "[17] \"test\"            \"inbag\"           \"terms\"          \n",
              "\n",
              "$class\n",
              "[1] \"randomForest.formula\" \"randomForest\"        \n"
            ]
          },
          "metadata": {}
        }
      ]
    },
    {
      "cell_type": "markdown",
      "source": [
        "After that, we plot the error rates with various number of trees.\n"
      ],
      "metadata": {
        "id": "Ru9bbyFZ-fOP"
      }
    },
    {
      "cell_type": "code",
      "source": [
        "plot(rf)"
      ],
      "metadata": {
        "colab": {
          "base_uri": "https://localhost:8080/",
          "height": 437
        },
        "id": "5TW6UVVn-frm",
        "outputId": "04e6fd62-3ceb-4db5-aa06-eb2fd0da0846"
      },
      "execution_count": 32,
      "outputs": [
        {
          "output_type": "display_data",
          "data": {
            "text/plain": [
              "Plot with title “rf”"
            ],
            "image/png": "[encoded data removed]"
          },
          "metadata": {
            "image/png": {
              "width": 420,
              "height": 420
            }
          }
        }
      ]
    },
    {
      "cell_type": "code",
      "source": [
        "importance(rf)\n",
        "varImpPlot(rf)"
      ],
      "metadata": {
        "colab": {
          "base_uri": "https://localhost:8080/",
          "height": 612
        },
        "id": "X1VM82BT-sMs",
        "outputId": "4ba092ab-9a77-4cef-be5d-0d3823379b96"
      },
      "execution_count": 34,
      "outputs": [
        {
          "output_type": "display_data",
          "data": {
            "text/html": [
              "<table class=\"dataframe\">\n",
              "<caption>A matrix: 4 × 1 of type dbl</caption>\n",
              "<thead>\n",
              "\t<tr><th></th><th scope=col>MeanDecreaseGini</th></tr>\n",
              "</thead>\n",
              "<tbody>\n",
              "\t<tr><th scope=row>Sepal.Length</th><td> 7.435541</td></tr>\n",
              "\t<tr><th scope=row>Sepal.Width</th><td> 2.225215</td></tr>\n",
              "\t<tr><th scope=row>Petal.Length</th><td>27.629030</td></tr>\n",
              "\t<tr><th scope=row>Petal.Width</th><td>31.926785</td></tr>\n",
              "</tbody>\n",
              "</table>\n"
            ],
            "text/markdown": "\nA matrix: 4 × 1 of type dbl\n\n| <!--/--> | MeanDecreaseGini |\n|---|---|\n| Sepal.Length |  7.435541 |\n| Sepal.Width |  2.225215 |\n| Petal.Length | 27.629030 |\n| Petal.Width | 31.926785 |\n\n",
            "text/latex": "A matrix: 4 × 1 of type dbl\n\\begin{tabular}{r|l}\n  & MeanDecreaseGini\\\\\n\\hline\n\tSepal.Length &  7.435541\\\\\n\tSepal.Width &  2.225215\\\\\n\tPetal.Length & 27.629030\\\\\n\tPetal.Width & 31.926785\\\\\n\\end{tabular}\n",
            "text/plain": [
              "             MeanDecreaseGini\n",
              "Sepal.Length  7.435541       \n",
              "Sepal.Width   2.225215       \n",
              "Petal.Length 27.629030       \n",
              "Petal.Width  31.926785       "
            ]
          },
          "metadata": {}
        },
        {
          "output_type": "display_data",
          "data": {
            "text/plain": [
              "Plot with title “rf”"
            ],
            "image/png": "[encoded data removed]"
          },
          "metadata": {
            "image/png": {
              "width": 420,
              "height": 420
            }
          }
        }
      ]
    },
    {
      "cell_type": "markdown",
      "source": [
        "Finally, the built random forest is tested on test data, and the result is checked with functions\n",
        "table() and margin(). The margin of a data point is as the proportion of votes for the correct\n",
        "class minus maximum proportion of votes for other classes. Generally speaking, positive margin means correct classification."
      ],
      "metadata": {
        "id": "qnSh4l4X_Nhr"
      }
    },
    {
      "cell_type": "code",
      "source": [
        "irisPred <- predict(rf, newdata=testData)\n",
        "table(irisPred, testData$Species)"
      ],
      "metadata": {
        "colab": {
          "base_uri": "https://localhost:8080/",
          "height": 104
        },
        "id": "4Mizo_C-_N0e",
        "outputId": "7f62bf2a-a59e-4d1d-e035-7d1715291128"
      },
      "execution_count": 35,
      "outputs": [
        {
          "output_type": "display_data",
          "data": {
            "text/plain": [
              "            \n",
              "irisPred     setosa versicolor virginica\n",
              "  setosa         17          0         0\n",
              "  versicolor      0         15         2\n",
              "  virginica       0          0        11"
            ]
          },
          "metadata": {}
        }
      ]
    },
    {
      "cell_type": "code",
      "source": [
        "plot(margin(rf, testData$Species))"
      ],
      "metadata": {
        "colab": {
          "base_uri": "https://localhost:8080/",
          "height": 437
        },
        "id": "iao5P9Pl_TM9",
        "outputId": "f848afd9-d3fd-42c9-9dde-3aaadd5d3110"
      },
      "execution_count": 36,
      "outputs": [
        {
          "output_type": "display_data",
          "data": {
            "text/plain": [
              "plot without title"
            ],
            "image/png": "[encoded data removed]"
          },
          "metadata": {
            "image/png": {
              "width": 420,
              "height": 420
            }
          }
        }
      ]
    }
  ]
}